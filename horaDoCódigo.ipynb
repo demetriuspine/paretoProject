{
 "cells": [
  {
   "cell_type": "code",
   "execution_count": 6,
   "source": [
    "import pandas as pd\n",
    "import matplotlib.pyplot as plt"
   ],
   "outputs": [],
   "metadata": {}
  },
  {
   "cell_type": "code",
   "execution_count": 7,
   "source": [
    "## IMPORTANDO OS DADOS E CONVERTENDO PARA TABELA\n",
    "df = pd.read_csv('dados.csv')\n",
    "df"
   ],
   "outputs": [
    {
     "output_type": "execute_result",
     "data": {
      "text/plain": [
       "    QUANTIDADE\n",
       "0            C\n",
       "1            D\n",
       "2            D\n",
       "3            E\n",
       "4            C\n",
       "..         ...\n",
       "195          B\n",
       "196          D\n",
       "197          D\n",
       "198          D\n",
       "199          D\n",
       "\n",
       "[200 rows x 1 columns]"
      ],
      "text/html": [
       "<div>\n",
       "<style scoped>\n",
       "    .dataframe tbody tr th:only-of-type {\n",
       "        vertical-align: middle;\n",
       "    }\n",
       "\n",
       "    .dataframe tbody tr th {\n",
       "        vertical-align: top;\n",
       "    }\n",
       "\n",
       "    .dataframe thead th {\n",
       "        text-align: right;\n",
       "    }\n",
       "</style>\n",
       "<table border=\"1\" class=\"dataframe\">\n",
       "  <thead>\n",
       "    <tr style=\"text-align: right;\">\n",
       "      <th></th>\n",
       "      <th>QUANTIDADE</th>\n",
       "    </tr>\n",
       "  </thead>\n",
       "  <tbody>\n",
       "    <tr>\n",
       "      <th>0</th>\n",
       "      <td>C</td>\n",
       "    </tr>\n",
       "    <tr>\n",
       "      <th>1</th>\n",
       "      <td>D</td>\n",
       "    </tr>\n",
       "    <tr>\n",
       "      <th>2</th>\n",
       "      <td>D</td>\n",
       "    </tr>\n",
       "    <tr>\n",
       "      <th>3</th>\n",
       "      <td>E</td>\n",
       "    </tr>\n",
       "    <tr>\n",
       "      <th>4</th>\n",
       "      <td>C</td>\n",
       "    </tr>\n",
       "    <tr>\n",
       "      <th>...</th>\n",
       "      <td>...</td>\n",
       "    </tr>\n",
       "    <tr>\n",
       "      <th>195</th>\n",
       "      <td>B</td>\n",
       "    </tr>\n",
       "    <tr>\n",
       "      <th>196</th>\n",
       "      <td>D</td>\n",
       "    </tr>\n",
       "    <tr>\n",
       "      <th>197</th>\n",
       "      <td>D</td>\n",
       "    </tr>\n",
       "    <tr>\n",
       "      <th>198</th>\n",
       "      <td>D</td>\n",
       "    </tr>\n",
       "    <tr>\n",
       "      <th>199</th>\n",
       "      <td>D</td>\n",
       "    </tr>\n",
       "  </tbody>\n",
       "</table>\n",
       "<p>200 rows × 1 columns</p>\n",
       "</div>"
      ]
     },
     "metadata": {},
     "execution_count": 7
    }
   ],
   "metadata": {}
  },
  {
   "cell_type": "code",
   "execution_count": 8,
   "source": [
    "##RENOMEIA E REDEFINE AS LEGENDAS\n",
    "df['QUANTIDADE'] = df['QUANTIDADE'].map({'A':'Defeito na cobertura plástica',\n",
    "                             'B':'Defeito no teclado',\n",
    "                             'C':'Defeito na fonte de energia',\n",
    "                             'D':'Soldas soltas',\n",
    "                             'E':'Defeito na placa da unidade de processamento',\n",
    "                             'F':'Defeito no visor',\n",
    "                             'G':'Outros',})\n",
    "df"
   ],
   "outputs": [
    {
     "output_type": "execute_result",
     "data": {
      "text/plain": [
       "                                       QUANTIDADE\n",
       "0                     Defeito na fonte de energia\n",
       "1                                   Soldas soltas\n",
       "2                                   Soldas soltas\n",
       "3    Defeito na placa da unidade de processamento\n",
       "4                     Defeito na fonte de energia\n",
       "..                                            ...\n",
       "195                            Defeito no teclado\n",
       "196                                 Soldas soltas\n",
       "197                                 Soldas soltas\n",
       "198                                 Soldas soltas\n",
       "199                                 Soldas soltas\n",
       "\n",
       "[200 rows x 1 columns]"
      ],
      "text/html": [
       "<div>\n",
       "<style scoped>\n",
       "    .dataframe tbody tr th:only-of-type {\n",
       "        vertical-align: middle;\n",
       "    }\n",
       "\n",
       "    .dataframe tbody tr th {\n",
       "        vertical-align: top;\n",
       "    }\n",
       "\n",
       "    .dataframe thead th {\n",
       "        text-align: right;\n",
       "    }\n",
       "</style>\n",
       "<table border=\"1\" class=\"dataframe\">\n",
       "  <thead>\n",
       "    <tr style=\"text-align: right;\">\n",
       "      <th></th>\n",
       "      <th>QUANTIDADE</th>\n",
       "    </tr>\n",
       "  </thead>\n",
       "  <tbody>\n",
       "    <tr>\n",
       "      <th>0</th>\n",
       "      <td>Defeito na fonte de energia</td>\n",
       "    </tr>\n",
       "    <tr>\n",
       "      <th>1</th>\n",
       "      <td>Soldas soltas</td>\n",
       "    </tr>\n",
       "    <tr>\n",
       "      <th>2</th>\n",
       "      <td>Soldas soltas</td>\n",
       "    </tr>\n",
       "    <tr>\n",
       "      <th>3</th>\n",
       "      <td>Defeito na placa da unidade de processamento</td>\n",
       "    </tr>\n",
       "    <tr>\n",
       "      <th>4</th>\n",
       "      <td>Defeito na fonte de energia</td>\n",
       "    </tr>\n",
       "    <tr>\n",
       "      <th>...</th>\n",
       "      <td>...</td>\n",
       "    </tr>\n",
       "    <tr>\n",
       "      <th>195</th>\n",
       "      <td>Defeito no teclado</td>\n",
       "    </tr>\n",
       "    <tr>\n",
       "      <th>196</th>\n",
       "      <td>Soldas soltas</td>\n",
       "    </tr>\n",
       "    <tr>\n",
       "      <th>197</th>\n",
       "      <td>Soldas soltas</td>\n",
       "    </tr>\n",
       "    <tr>\n",
       "      <th>198</th>\n",
       "      <td>Soldas soltas</td>\n",
       "    </tr>\n",
       "    <tr>\n",
       "      <th>199</th>\n",
       "      <td>Soldas soltas</td>\n",
       "    </tr>\n",
       "  </tbody>\n",
       "</table>\n",
       "<p>200 rows × 1 columns</p>\n",
       "</div>"
      ]
     },
     "metadata": {},
     "execution_count": 8
    }
   ],
   "metadata": {}
  },
  {
   "cell_type": "code",
   "execution_count": 9,
   "source": [
    "##CONTANDO OS VALORES DE CADA INSTÂNCIA\n",
    "frec = pd.value_counts(df['QUANTIDADE'])\n",
    "frec"
   ],
   "outputs": [
    {
     "output_type": "execute_result",
     "data": {
      "text/plain": [
       "Soldas soltas                                   80\n",
       "Defeito na fonte de energia                     55\n",
       "Defeito na placa da unidade de processamento    25\n",
       "Defeito no teclado                              20\n",
       "Defeito na cobertura plástica                   10\n",
       "Outros                                           7\n",
       "Defeito no visor                                 3\n",
       "Name: QUANTIDADE, dtype: int64"
      ]
     },
     "metadata": {},
     "execution_count": 9
    }
   ],
   "metadata": {}
  },
  {
   "cell_type": "code",
   "execution_count": 10,
   "source": [
    "##TRANSFORMANDO EM UM DATAFRAME\n",
    "frecDf = pd.DataFrame(frec)\n",
    "frecDf"
   ],
   "outputs": [
    {
     "output_type": "execute_result",
     "data": {
      "text/plain": [
       "                                              QUANTIDADE\n",
       "Soldas soltas                                         80\n",
       "Defeito na fonte de energia                           55\n",
       "Defeito na placa da unidade de processamento          25\n",
       "Defeito no teclado                                    20\n",
       "Defeito na cobertura plástica                         10\n",
       "Outros                                                 7\n",
       "Defeito no visor                                       3"
      ],
      "text/html": [
       "<div>\n",
       "<style scoped>\n",
       "    .dataframe tbody tr th:only-of-type {\n",
       "        vertical-align: middle;\n",
       "    }\n",
       "\n",
       "    .dataframe tbody tr th {\n",
       "        vertical-align: top;\n",
       "    }\n",
       "\n",
       "    .dataframe thead th {\n",
       "        text-align: right;\n",
       "    }\n",
       "</style>\n",
       "<table border=\"1\" class=\"dataframe\">\n",
       "  <thead>\n",
       "    <tr style=\"text-align: right;\">\n",
       "      <th></th>\n",
       "      <th>QUANTIDADE</th>\n",
       "    </tr>\n",
       "  </thead>\n",
       "  <tbody>\n",
       "    <tr>\n",
       "      <th>Soldas soltas</th>\n",
       "      <td>80</td>\n",
       "    </tr>\n",
       "    <tr>\n",
       "      <th>Defeito na fonte de energia</th>\n",
       "      <td>55</td>\n",
       "    </tr>\n",
       "    <tr>\n",
       "      <th>Defeito na placa da unidade de processamento</th>\n",
       "      <td>25</td>\n",
       "    </tr>\n",
       "    <tr>\n",
       "      <th>Defeito no teclado</th>\n",
       "      <td>20</td>\n",
       "    </tr>\n",
       "    <tr>\n",
       "      <th>Defeito na cobertura plástica</th>\n",
       "      <td>10</td>\n",
       "    </tr>\n",
       "    <tr>\n",
       "      <th>Outros</th>\n",
       "      <td>7</td>\n",
       "    </tr>\n",
       "    <tr>\n",
       "      <th>Defeito no visor</th>\n",
       "      <td>3</td>\n",
       "    </tr>\n",
       "  </tbody>\n",
       "</table>\n",
       "</div>"
      ]
     },
     "metadata": {},
     "execution_count": 10
    }
   ],
   "metadata": {}
  },
  {
   "cell_type": "code",
   "execution_count": 11,
   "source": [
    "##ACRESCENTANDO A COLUNA DE FREQUENCIA RELATIVA\n",
    "frecDf[\"FREQUENCIA REL (%)\"] = frecDf[\"QUANTIDADE\"]/len(df) * 100\n",
    "frecDf"
   ],
   "outputs": [
    {
     "output_type": "execute_result",
     "data": {
      "text/plain": [
       "                                              QUANTIDADE  FREQUENCIA REL (%)\n",
       "Soldas soltas                                         80                40.0\n",
       "Defeito na fonte de energia                           55                27.5\n",
       "Defeito na placa da unidade de processamento          25                12.5\n",
       "Defeito no teclado                                    20                10.0\n",
       "Defeito na cobertura plástica                         10                 5.0\n",
       "Outros                                                 7                 3.5\n",
       "Defeito no visor                                       3                 1.5"
      ],
      "text/html": [
       "<div>\n",
       "<style scoped>\n",
       "    .dataframe tbody tr th:only-of-type {\n",
       "        vertical-align: middle;\n",
       "    }\n",
       "\n",
       "    .dataframe tbody tr th {\n",
       "        vertical-align: top;\n",
       "    }\n",
       "\n",
       "    .dataframe thead th {\n",
       "        text-align: right;\n",
       "    }\n",
       "</style>\n",
       "<table border=\"1\" class=\"dataframe\">\n",
       "  <thead>\n",
       "    <tr style=\"text-align: right;\">\n",
       "      <th></th>\n",
       "      <th>QUANTIDADE</th>\n",
       "      <th>FREQUENCIA REL (%)</th>\n",
       "    </tr>\n",
       "  </thead>\n",
       "  <tbody>\n",
       "    <tr>\n",
       "      <th>Soldas soltas</th>\n",
       "      <td>80</td>\n",
       "      <td>40.0</td>\n",
       "    </tr>\n",
       "    <tr>\n",
       "      <th>Defeito na fonte de energia</th>\n",
       "      <td>55</td>\n",
       "      <td>27.5</td>\n",
       "    </tr>\n",
       "    <tr>\n",
       "      <th>Defeito na placa da unidade de processamento</th>\n",
       "      <td>25</td>\n",
       "      <td>12.5</td>\n",
       "    </tr>\n",
       "    <tr>\n",
       "      <th>Defeito no teclado</th>\n",
       "      <td>20</td>\n",
       "      <td>10.0</td>\n",
       "    </tr>\n",
       "    <tr>\n",
       "      <th>Defeito na cobertura plástica</th>\n",
       "      <td>10</td>\n",
       "      <td>5.0</td>\n",
       "    </tr>\n",
       "    <tr>\n",
       "      <th>Outros</th>\n",
       "      <td>7</td>\n",
       "      <td>3.5</td>\n",
       "    </tr>\n",
       "    <tr>\n",
       "      <th>Defeito no visor</th>\n",
       "      <td>3</td>\n",
       "      <td>1.5</td>\n",
       "    </tr>\n",
       "  </tbody>\n",
       "</table>\n",
       "</div>"
      ]
     },
     "metadata": {},
     "execution_count": 11
    }
   ],
   "metadata": {}
  },
  {
   "cell_type": "code",
   "execution_count": 12,
   "source": [
    "##ACRESCENTANDO A FREQUENCIA ACUMULADA\n",
    "frecDf[\"ACUMULADO (%)\"] = frecDf[\"FREQUENCIA REL (%)\"].cumsum()\n",
    "frecDf"
   ],
   "outputs": [
    {
     "output_type": "execute_result",
     "data": {
      "text/plain": [
       "                                              QUANTIDADE  FREQUENCIA REL (%)  \\\n",
       "Soldas soltas                                         80                40.0   \n",
       "Defeito na fonte de energia                           55                27.5   \n",
       "Defeito na placa da unidade de processamento          25                12.5   \n",
       "Defeito no teclado                                    20                10.0   \n",
       "Defeito na cobertura plástica                         10                 5.0   \n",
       "Outros                                                 7                 3.5   \n",
       "Defeito no visor                                       3                 1.5   \n",
       "\n",
       "                                              ACUMULADO (%)  \n",
       "Soldas soltas                                          40.0  \n",
       "Defeito na fonte de energia                            67.5  \n",
       "Defeito na placa da unidade de processamento           80.0  \n",
       "Defeito no teclado                                     90.0  \n",
       "Defeito na cobertura plástica                          95.0  \n",
       "Outros                                                 98.5  \n",
       "Defeito no visor                                      100.0  "
      ],
      "text/html": [
       "<div>\n",
       "<style scoped>\n",
       "    .dataframe tbody tr th:only-of-type {\n",
       "        vertical-align: middle;\n",
       "    }\n",
       "\n",
       "    .dataframe tbody tr th {\n",
       "        vertical-align: top;\n",
       "    }\n",
       "\n",
       "    .dataframe thead th {\n",
       "        text-align: right;\n",
       "    }\n",
       "</style>\n",
       "<table border=\"1\" class=\"dataframe\">\n",
       "  <thead>\n",
       "    <tr style=\"text-align: right;\">\n",
       "      <th></th>\n",
       "      <th>QUANTIDADE</th>\n",
       "      <th>FREQUENCIA REL (%)</th>\n",
       "      <th>ACUMULADO (%)</th>\n",
       "    </tr>\n",
       "  </thead>\n",
       "  <tbody>\n",
       "    <tr>\n",
       "      <th>Soldas soltas</th>\n",
       "      <td>80</td>\n",
       "      <td>40.0</td>\n",
       "      <td>40.0</td>\n",
       "    </tr>\n",
       "    <tr>\n",
       "      <th>Defeito na fonte de energia</th>\n",
       "      <td>55</td>\n",
       "      <td>27.5</td>\n",
       "      <td>67.5</td>\n",
       "    </tr>\n",
       "    <tr>\n",
       "      <th>Defeito na placa da unidade de processamento</th>\n",
       "      <td>25</td>\n",
       "      <td>12.5</td>\n",
       "      <td>80.0</td>\n",
       "    </tr>\n",
       "    <tr>\n",
       "      <th>Defeito no teclado</th>\n",
       "      <td>20</td>\n",
       "      <td>10.0</td>\n",
       "      <td>90.0</td>\n",
       "    </tr>\n",
       "    <tr>\n",
       "      <th>Defeito na cobertura plástica</th>\n",
       "      <td>10</td>\n",
       "      <td>5.0</td>\n",
       "      <td>95.0</td>\n",
       "    </tr>\n",
       "    <tr>\n",
       "      <th>Outros</th>\n",
       "      <td>7</td>\n",
       "      <td>3.5</td>\n",
       "      <td>98.5</td>\n",
       "    </tr>\n",
       "    <tr>\n",
       "      <th>Defeito no visor</th>\n",
       "      <td>3</td>\n",
       "      <td>1.5</td>\n",
       "      <td>100.0</td>\n",
       "    </tr>\n",
       "  </tbody>\n",
       "</table>\n",
       "</div>"
      ]
     },
     "metadata": {},
     "execution_count": 12
    }
   ],
   "metadata": {}
  },
  {
   "cell_type": "code",
   "execution_count": 105,
   "source": [
    "##frecDf.to_csv('tabela1.csv')"
   ],
   "outputs": [],
   "metadata": {}
  },
  {
   "cell_type": "code",
   "execution_count": 13,
   "source": [
    "xLabel = input('Digite a legenda: ')"
   ],
   "outputs": [],
   "metadata": {}
  },
  {
   "cell_type": "code",
   "execution_count": 16,
   "source": [
    "fig, ax1 = plt.subplots()\n",
    "ax1.bar(frecDf.index, frecDf[\"QUANTIDADE\"], color=\"C0\")\n",
    "ax1.set_ylabel(\"Quantidade de ocorrências\", color=\"C0\")\n",
    "ax1.tick_params(axis=\"y\", colors=\"C0\")##cor dos numeros do eixo y\n",
    "ax1.set_xlabel(xLabel, color=\"C4\")##cor do input da label\n",
    "ax1.set_xticklabels(frecDf[\"QUANTIDADE\"], rotation=90, color=\"C3\")##cor dos valores do eixo x\n",
    "ax2 = ax1.twinx()\n",
    "ax2.plot(frecDf.index, frecDf[\"ACUMULADO (%)\"], color=\"C1\", marker=\".\", ms=15)\n",
    "ax2.tick_params(axis=\"y\", colors=\"C1\")\n",
    "ax2.set_ylabel(\"Frequência (%)\", color=\"C1\")\n",
    "plt.show()"
   ],
   "outputs": [
    {
     "output_type": "stream",
     "name": "stderr",
     "text": [
      "/tmp/ipykernel_9558/980236271.py:6: UserWarning: FixedFormatter should only be used together with FixedLocator\n",
      "  ax1.set_xticklabels(frecDf[\"QUANTIDADE\"], rotation=90, color=\"C3\")##cor dos valores do eixo x\n"
     ]
    },
    {
     "output_type": "display_data",
     "data": {
      "text/plain": [
       "<Figure size 432x288 with 2 Axes>"
      ],
      "image/png": "[encoded data removed]"
     },
     "metadata": {}
    }
   ],
   "metadata": {}
  }
 ],
 "metadata": {
  "orig_nbformat": 4,
  "language_info": {
   "name": "python",
   "version": "3.8.10",
   "mimetype": "text/x-python",
   "codemirror_mode": {
    "name": "ipython",
    "version": 3
   },
   "pygments_lexer": "ipython3",
   "nbconvert_exporter": "python",
   "file_extension": ".py"
  },
  "kernelspec": {
   "name": "python3",
   "display_name": "Python 3.8.10 64-bit"
  },
  "interpreter": {
   "hash": "31f2aee4e71d21fbe5cf8b01ff0e069b9275f58929596ceb00d14d90e3e16cd6"
  }
 },
 "nbformat": 4,
 "nbformat_minor": 2
}