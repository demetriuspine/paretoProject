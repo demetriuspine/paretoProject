{
 "cells": [
  {
   "cell_type": "code",
   "execution_count": 1,
   "source": [
    "import pandas as pd\n",
    "import matplotlib.pyplot as plt"
   ],
   "outputs": [],
   "metadata": {}
  },
  {
   "cell_type": "code",
   "execution_count": 4,
   "source": [
    "df = pd.read_csv('dataset.csv', index_col = pd.read_csv('dataset.csv').columns[0])\n",
    "df"
   ],
   "outputs": [
    {
     "output_type": "execute_result",
     "data": {
      "text/plain": [
       "                                       Quantidade\n",
       "Não conformidade                                 \n",
       "Estufa com Alta temperatura                    95\n",
       "Esteira de saída Travada                       65\n",
       "Dosador de cola não funciona                   40\n",
       "Falta de embalagem e máquina não para          20\n",
       "Máquina não liga                               15\n",
       "Correia de transporte quebrada                  6"
      ],
      "text/html": [
       "<div>\n",
       "<style scoped>\n",
       "    .dataframe tbody tr th:only-of-type {\n",
       "        vertical-align: middle;\n",
       "    }\n",
       "\n",
       "    .dataframe tbody tr th {\n",
       "        vertical-align: top;\n",
       "    }\n",
       "\n",
       "    .dataframe thead th {\n",
       "        text-align: right;\n",
       "    }\n",
       "</style>\n",
       "<table border=\"1\" class=\"dataframe\">\n",
       "  <thead>\n",
       "    <tr style=\"text-align: right;\">\n",
       "      <th></th>\n",
       "      <th>Quantidade</th>\n",
       "    </tr>\n",
       "    <tr>\n",
       "      <th>Não conformidade</th>\n",
       "      <th></th>\n",
       "    </tr>\n",
       "  </thead>\n",
       "  <tbody>\n",
       "    <tr>\n",
       "      <th>Estufa com Alta temperatura</th>\n",
       "      <td>95</td>\n",
       "    </tr>\n",
       "    <tr>\n",
       "      <th>Esteira de saída Travada</th>\n",
       "      <td>65</td>\n",
       "    </tr>\n",
       "    <tr>\n",
       "      <th>Dosador de cola não funciona</th>\n",
       "      <td>40</td>\n",
       "    </tr>\n",
       "    <tr>\n",
       "      <th>Falta de embalagem e máquina não para</th>\n",
       "      <td>20</td>\n",
       "    </tr>\n",
       "    <tr>\n",
       "      <th>Máquina não liga</th>\n",
       "      <td>15</td>\n",
       "    </tr>\n",
       "    <tr>\n",
       "      <th>Correia de transporte quebrada</th>\n",
       "      <td>6</td>\n",
       "    </tr>\n",
       "  </tbody>\n",
       "</table>\n",
       "</div>"
      ]
     },
     "metadata": {},
     "execution_count": 4
    }
   ],
   "metadata": {}
  },
  {
   "cell_type": "code",
   "execution_count": 5,
   "source": [
    "df[\"Acumulado (%)\"] = df[\"Quantidade\"].cumsum()/df[\"Quantidade\"].sum()* 100\n",
    "df"
   ],
   "outputs": [
    {
     "output_type": "execute_result",
     "data": {
      "text/plain": [
       "                                       Quantidade  Acumulado (%)\n",
       "Não conformidade                                                \n",
       "Estufa com Alta temperatura                    95      39.419087\n",
       "Esteira de saída Travada                       65      66.390041\n",
       "Dosador de cola não funciona                   40      82.987552\n",
       "Falta de embalagem e máquina não para          20      91.286307\n",
       "Máquina não liga                               15      97.510373\n",
       "Correia de transporte quebrada                  6     100.000000"
      ],
      "text/html": [
       "<div>\n",
       "<style scoped>\n",
       "    .dataframe tbody tr th:only-of-type {\n",
       "        vertical-align: middle;\n",
       "    }\n",
       "\n",
       "    .dataframe tbody tr th {\n",
       "        vertical-align: top;\n",
       "    }\n",
       "\n",
       "    .dataframe thead th {\n",
       "        text-align: right;\n",
       "    }\n",
       "</style>\n",
       "<table border=\"1\" class=\"dataframe\">\n",
       "  <thead>\n",
       "    <tr style=\"text-align: right;\">\n",
       "      <th></th>\n",
       "      <th>Quantidade</th>\n",
       "      <th>Acumulado (%)</th>\n",
       "    </tr>\n",
       "    <tr>\n",
       "      <th>Não conformidade</th>\n",
       "      <th></th>\n",
       "      <th></th>\n",
       "    </tr>\n",
       "  </thead>\n",
       "  <tbody>\n",
       "    <tr>\n",
       "      <th>Estufa com Alta temperatura</th>\n",
       "      <td>95</td>\n",
       "      <td>39.419087</td>\n",
       "    </tr>\n",
       "    <tr>\n",
       "      <th>Esteira de saída Travada</th>\n",
       "      <td>65</td>\n",
       "      <td>66.390041</td>\n",
       "    </tr>\n",
       "    <tr>\n",
       "      <th>Dosador de cola não funciona</th>\n",
       "      <td>40</td>\n",
       "      <td>82.987552</td>\n",
       "    </tr>\n",
       "    <tr>\n",
       "      <th>Falta de embalagem e máquina não para</th>\n",
       "      <td>20</td>\n",
       "      <td>91.286307</td>\n",
       "    </tr>\n",
       "    <tr>\n",
       "      <th>Máquina não liga</th>\n",
       "      <td>15</td>\n",
       "      <td>97.510373</td>\n",
       "    </tr>\n",
       "    <tr>\n",
       "      <th>Correia de transporte quebrada</th>\n",
       "      <td>6</td>\n",
       "      <td>100.000000</td>\n",
       "    </tr>\n",
       "  </tbody>\n",
       "</table>\n",
       "</div>"
      ]
     },
     "metadata": {},
     "execution_count": 5
    }
   ],
   "metadata": {}
  }
 ],
 "metadata": {
  "orig_nbformat": 4,
  "language_info": {
   "name": "python",
   "version": "3.8.10",
   "mimetype": "text/x-python",
   "codemirror_mode": {
    "name": "ipython",
    "version": 3
   },
   "pygments_lexer": "ipython3",
   "nbconvert_exporter": "python",
   "file_extension": ".py"
  },
  "kernelspec": {
   "name": "python3",
   "display_name": "Python 3.8.10 64-bit"
  },
  "interpreter": {
   "hash": "31f2aee4e71d21fbe5cf8b01ff0e069b9275f58929596ceb00d14d90e3e16cd6"
  }
 },
 "nbformat": 4,
 "nbformat_minor": 2
}